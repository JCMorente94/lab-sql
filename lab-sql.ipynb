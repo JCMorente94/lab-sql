{
 "cells": [
  {
   "cell_type": "code",
   "execution_count": 8,
   "metadata": {
    "ExecuteTime": {
     "end_time": "2020-01-18T16:30:28.628015Z",
     "start_time": "2020-01-18T16:30:28.620031Z"
    }
   },
   "outputs": [],
   "source": [
    "import os\n",
    "os.environ[\"GOOGLE_APPLICATION_CREDENTIALS\"]=\"/Users/jcmor/desktop/Ironhack/ironhack_service_account_big_query.json\"\n",
    "from google.cloud import bigquery\n",
    "\n",
    "# Instantiates a client for BigQuery Service\n",
    "client = bigquery.Client()\n",
    "\n",
    "sql='''\n",
    "CREATE TABLE car_dealership.car(\n",
    "  vin STRING NOT NULL,\n",
    "  manufacturer STRING,\n",
    "  model STRING,\n",
    "  year NUMERIC,\n",
    "  color STRING)\n",
    "'''\n",
    "\n",
    "\n"
   ]
  },
  {
   "cell_type": "code",
   "execution_count": 9,
   "metadata": {
    "ExecuteTime": {
     "end_time": "2020-01-18T16:30:32.104703Z",
     "start_time": "2020-01-18T16:30:31.197153Z"
    }
   },
   "outputs": [],
   "source": [
    "query_job = client.query(query=sql)"
   ]
  },
  {
   "cell_type": "code",
   "execution_count": 10,
   "metadata": {
    "ExecuteTime": {
     "end_time": "2020-01-18T16:30:36.052529Z",
     "start_time": "2020-01-18T16:30:33.841069Z"
    }
   },
   "outputs": [
    {
     "data": {
      "text/plain": [
       "<google.cloud.bigquery.table._EmptyRowIterator at 0x22381caff48>"
      ]
     },
     "execution_count": 10,
     "metadata": {},
     "output_type": "execute_result"
    }
   ],
   "source": [
    "sql_3 = '''INSERT INTO `ironhack-data-analytics-265219.car_dealership.car` \n",
    "VALUES (\"3K096I98581DHSNUP\",\"Volkswagen\",\"Tiguan\",2019, \"Blue\"),\n",
    "        (\"ZM8G7BEUQZ97IH46V\",\"Peugeot\", \"Rifter\",2019,\"Red\"),\n",
    "        (\"RKXVNNIHLVVZOUB4M\",\"Ford\", \"Fusion\",2018,\"White\"),\n",
    "        (\"HKNDGS7CU31E9Z7JW\",\"Toyota\", \"RAV4\",2018,\"Silver\"),\n",
    "        (\"DAM41UDN3CHU2WVF6\",\"Volvo\",\"V60\",2019,\"Gray\"),\n",
    "        (\"DAM41UDN3CHU2WVF6\",\"Volvo\",\"V60 Cross Country\",2019,\"Gray\");\n",
    "'''\n",
    "query_job = client.query(query=sql_3)\n",
    "query_job.result()"
   ]
  },
  {
   "cell_type": "code",
   "execution_count": 11,
   "metadata": {
    "ExecuteTime": {
     "end_time": "2020-01-18T16:30:44.520277Z",
     "start_time": "2020-01-18T16:30:41.701943Z"
    }
   },
   "outputs": [
    {
     "data": {
      "text/plain": [
       "<google.cloud.bigquery.table._EmptyRowIterator at 0x223ff850fc8>"
      ]
     },
     "execution_count": 11,
     "metadata": {},
     "output_type": "execute_result"
    }
   ],
   "source": [
    "sql_4 = '''DELETE FROM `ironhack-data-analytics-265219.car_dealership.car`\n",
    "WHERE vin = 'DAM41UDN3CHU2WVF6' AND model = 'V60';'''\n",
    "query_job = client.query(query=sql_4)\n",
    "query_job.result()"
   ]
  },
  {
   "cell_type": "code",
   "execution_count": null,
   "metadata": {},
   "outputs": [],
   "source": []
  }
 ],
 "metadata": {
  "kernelspec": {
   "display_name": "Python 3",
   "language": "python",
   "name": "python3"
  },
  "language_info": {
   "codemirror_mode": {
    "name": "ipython",
    "version": 3
   },
   "file_extension": ".py",
   "mimetype": "text/x-python",
   "name": "python",
   "nbconvert_exporter": "python",
   "pygments_lexer": "ipython3",
   "version": "3.7.4"
  },
  "varInspector": {
   "cols": {
    "lenName": 16,
    "lenType": 16,
    "lenVar": 40
   },
   "kernels_config": {
    "python": {
     "delete_cmd_postfix": "",
     "delete_cmd_prefix": "del ",
     "library": "var_list.py",
     "varRefreshCmd": "print(var_dic_list())"
    },
    "r": {
     "delete_cmd_postfix": ") ",
     "delete_cmd_prefix": "rm(",
     "library": "var_list.r",
     "varRefreshCmd": "cat(var_dic_list()) "
    }
   },
   "types_to_exclude": [
    "module",
    "function",
    "builtin_function_or_method",
    "instance",
    "_Feature"
   ],
   "window_display": false
  }
 },
 "nbformat": 4,
 "nbformat_minor": 2
}
